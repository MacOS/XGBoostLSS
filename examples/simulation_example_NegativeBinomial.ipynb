{
 "cells": [
  {
   "cell_type": "markdown",
   "metadata": {},
   "source": [
    "[![Open in Colab](https://colab.research.google.com/assets/colab-badge.svg)](https://colab.research.google.com/github/StatMixedML/XGBoostLSS/blob/master/examples/simulation_example_NegativeBinomial.ipynb)"
   ]
  },
  {
   "cell_type": "markdown",
   "metadata": {},
   "source": [
    "# Imports"
   ]
  },
  {
   "cell_type": "code",
   "execution_count": 10,
   "metadata": {
    "ExecuteTime": {
     "end_time": "2023-05-18T06:57:02.291276100Z",
     "start_time": "2023-05-18T06:57:02.177579400Z"
    }
   },
   "outputs": [],
   "source": [
    "from xgboostlss.model import *\n",
    "from xgboostlss.distributions.NegativeBinomial import *\n",
    "\n",
    "from sklearn.datasets import make_regression\n",
    "from sklearn.model_selection import train_test_split\n",
    "import multiprocessing"
   ]
  },
  {
   "cell_type": "markdown",
   "metadata": {},
   "source": [
    "# Data"
   ]
  },
  {
   "cell_type": "code",
   "execution_count": 2,
   "metadata": {
    "ExecuteTime": {
     "end_time": "2023-05-18T06:51:53.913176400Z",
     "start_time": "2023-05-18T06:51:53.050199200Z"
    }
   },
   "outputs": [],
   "source": [
    "n_cpu = multiprocessing.cpu_count()\n",
    "\n",
    "def custom_transform(y, constr_val):\n",
    "    # Apply a custom transformation to restrict y between 0 and constr_val\n",
    "    transformed_y = np.abs(y)  # Example transformation: logarithmic\n",
    "    constrained_y = constr_val * transformed_y / np.max(transformed_y)  # Scale to desired range\n",
    "    int_y = constrained_y.astype(int)\n",
    "    return int_y\n",
    "\n",
    "# Generate a custom dataset\n",
    "X, y = make_regression(n_samples=5000, n_features=10, n_informative=2, random_state=123)\n",
    "\n",
    "# Apply the custom transformation\n",
    "y = custom_transform(y, 50)\n",
    "\n",
    "# Split into train and test\n",
    "X_train, X_test, y_train, y_test = train_test_split(X, y, test_size=0.2, random_state=123)\n",
    "\n",
    "dtrain = xgb.DMatrix(X_train, label=y_train, nthread=n_cpu)\n",
    "dtest = xgb.DMatrix(X_test, nthread=n_cpu)"
   ]
  },
  {
   "cell_type": "markdown",
   "metadata": {},
   "source": [
    "# Distribution Selection"
   ]
  },
  {
   "cell_type": "code",
   "execution_count": 3,
   "metadata": {
    "ExecuteTime": {
     "end_time": "2023-05-18T06:51:53.928136100Z",
     "start_time": "2023-05-18T06:51:53.911318300Z"
    }
   },
   "outputs": [],
   "source": [
    "# Specifies Negative Binomial distribution with corresponding response functions and option to stabilize Gradient/Hessian. See ?NegativeBinomial for more information.\n",
    "xgblss = XGBoostLSS(\n",
    "    NegativeBinomial(stabilization=\"None\",              # Options are \"None\", \"MAD\", \"L2\".\n",
    "                     response_fn_total_count=\"relu\",    # Function to transform the total_count-parameter, e.g., \"exp\", \"softplus\" or \"relu\".\n",
    "                     response_fn_probs=\"sigmoid\",       # Function to transform the probs-parameter, e.g., \"sigmoid\".\n",
    "                     loss_fn=\"nll\"                      # Loss function. Options are \"nll\" (negative log-likelihood) or \"crps\"(continuous ranked probability score).\n",
    "                    )\n",
    ")"
   ]
  },
  {
   "cell_type": "markdown",
   "metadata": {},
   "source": [
    "# Hyper-Parameter Optimization"
   ]
  },
  {
   "cell_type": "code",
   "execution_count": 4,
   "metadata": {
    "ExecuteTime": {
     "end_time": "2023-05-18T06:56:59.310252600Z",
     "start_time": "2023-05-18T06:51:54.046821100Z"
    }
   },
   "outputs": [
    {
     "name": "stderr",
     "output_type": "stream",
     "text": [
      "\u001b[32m[I 2023-05-18 08:51:54,049]\u001b[0m A new study created in memory with name: XGBoostLSS Hyper-Parameter Optimization\u001b[0m\n",
      "Progress bar is experimental (supported from v1.2.0). The interface can change in the future.\n"
     ]
    },
    {
     "data": {
      "application/vnd.jupyter.widget-view+json": {
       "model_id": "256ef84fac1b48a1af55d1ec97b7522e",
       "version_major": 2,
       "version_minor": 0
      },
      "text/plain": [
       "   0%|          | 00:00/05:00"
      ]
     },
     "metadata": {},
     "output_type": "display_data"
    },
    {
     "name": "stdout",
     "output_type": "stream",
     "text": [
      "\u001b[32m[I 2023-05-18 08:52:00,782]\u001b[0m Trial 0 finished with value: 2253.7895022000002 and parameters: {'eta': 0.1255364723484603, 'max_depth': 4, 'gamma': 4.514338862336535, 'subsample': 0.3753421259261627, 'colsample_bytree': 0.3776899045118417, 'min_child_weight': 1.207028911491354, 'booster': 'gbtree'}. Best is trial 0 with value: 2253.7895022000002.\u001b[0m\n",
      "\u001b[32m[I 2023-05-18 08:52:07,990]\u001b[0m Trial 1 finished with value: 2640.5155762000004 and parameters: {'eta': 2.0670646830822567e-05, 'max_depth': 4, 'gamma': 0.05808844939071527, 'subsample': 0.7733659713882497, 'colsample_bytree': 0.464512804425795, 'min_child_weight': 1.7704801900956446e-08, 'booster': 'gbtree'}. Best is trial 0 with value: 2253.7895022000002.\u001b[0m\n",
      "\u001b[32m[I 2023-05-18 08:52:16,119]\u001b[0m Trial 2 finished with value: 2588.2733884 and parameters: {'eta': 0.0007594823592931716, 'max_depth': 6, 'gamma': 0.372164381471535, 'subsample': 0.8067084910251643, 'colsample_bytree': 0.8897527920318078, 'min_child_weight': 0.4778136689271917, 'booster': 'gbtree'}. Best is trial 0 with value: 2253.7895022000002.\u001b[0m\n",
      "\u001b[32m[I 2023-05-18 08:52:23,742]\u001b[0m Trial 3 finished with value: 2076.8178708 and parameters: {'eta': 0.2659642927589693, 'max_depth': 2, 'gamma': 2.6388101137598103, 'subsample': 0.9985917484784281, 'colsample_bytree': 0.9076148229993086, 'min_child_weight': 5.877824017733886e-06, 'booster': 'gbtree'}. Best is trial 3 with value: 2076.8178708.\u001b[0m\n",
      "\u001b[32m[I 2023-05-18 08:52:32,529]\u001b[0m Trial 4 finished with value: 2291.1173828 and parameters: {'eta': 0.0417224804584189, 'max_depth': 9, 'gamma': 0.003989542612472359, 'subsample': 0.3390321865500032, 'colsample_bytree': 0.5621857745178055, 'min_child_weight': 56.93144460049986, 'booster': 'gbtree'}. Best is trial 3 with value: 2076.8178708.\u001b[0m\n",
      "\u001b[32m[I 2023-05-18 08:52:40,623]\u001b[0m Trial 5 finished with value: 2632.5738768 and parameters: {'eta': 0.0009144152955792741, 'max_depth': 1, 'gamma': 2.2921719547907227, 'subsample': 0.6679171234158147, 'colsample_bytree': 0.9860135933640846, 'min_child_weight': 0.01619053215266527, 'booster': 'gbtree'}. Best is trial 3 with value: 2076.8178708.\u001b[0m\n",
      "\u001b[32m[I 2023-05-18 08:52:51,481]\u001b[0m Trial 6 finished with value: 2389.6617186000003 and parameters: {'eta': 0.007021872885826207, 'max_depth': 7, 'gamma': 32.44205569833294, 'subsample': 0.5939719098059673, 'colsample_bytree': 0.802919448822965, 'min_child_weight': 0.24771655346331597, 'booster': 'gbtree'}. Best is trial 3 with value: 2076.8178708.\u001b[0m\n",
      "\u001b[32m[I 2023-05-18 08:53:02,989]\u001b[0m Trial 7 finished with value: 2625.569873 and parameters: {'eta': 0.00013609195815169362, 'max_depth': 10, 'gamma': 0.024702358724981575, 'subsample': 0.657377539602717, 'colsample_bytree': 0.826197842180749, 'min_child_weight': 3.366349670669162e-07, 'booster': 'gbtree'}. Best is trial 3 with value: 2076.8178708.\u001b[0m\n",
      "\u001b[32m[I 2023-05-18 08:53:13,334]\u001b[0m Trial 8 finished with value: 2639.2782228000005 and parameters: {'eta': 0.00015347688152369683, 'max_depth': 9, 'gamma': 0.0030970252290905844, 'subsample': 0.7181963828180145, 'colsample_bytree': 0.23767972125451475, 'min_child_weight': 0.000577765043789441, 'booster': 'gbtree'}. Best is trial 3 with value: 2076.8178708.\u001b[0m\n",
      "\u001b[32m[I 2023-05-18 08:53:22,297]\u001b[0m Trial 9 finished with value: 2640.405371 and parameters: {'eta': 1.4947071786371636e-05, 'max_depth': 4, 'gamma': 2.86805382978899e-06, 'subsample': 0.5205633883059178, 'colsample_bytree': 0.6335522083028049, 'min_child_weight': 0.02057774003372092, 'booster': 'gbtree'}. Best is trial 3 with value: 2076.8178708.\u001b[0m\n",
      "\u001b[32m[I 2023-05-18 08:53:30,536]\u001b[0m Trial 10 finished with value: 2342.1216798 and parameters: {'eta': 0.6166353363760108, 'max_depth': 1, 'gamma': 6.39462179257613e-05, 'subsample': 0.940701057077863, 'colsample_bytree': 0.7114980468854203, 'min_child_weight': 9.37482538924106e-06, 'booster': 'gbtree'}. Best is trial 3 with value: 2076.8178708.\u001b[0m\n",
      "\u001b[32m[I 2023-05-18 08:53:39,048]\u001b[0m Trial 11 finished with value: 2260.78208 and parameters: {'eta': 0.9726036271446167, 'max_depth': 3, 'gamma': 37.390968380274174, 'subsample': 0.20194906684841285, 'colsample_bytree': 0.3742028611256192, 'min_child_weight': 4.540307341645584e-05, 'booster': 'gbtree'}. Best is trial 3 with value: 2076.8178708.\u001b[0m\n",
      "\u001b[32m[I 2023-05-18 08:53:47,653]\u001b[0m Trial 12 finished with value: 2379.6492186000005 and parameters: {'eta': 0.09631886797894745, 'max_depth': 3, 'gamma': 0.8810720091853007, 'subsample': 0.9978835725514599, 'colsample_bytree': 0.48944736832497576, 'min_child_weight': 411.76051024719146, 'booster': 'gbtree'}. Best is trial 3 with value: 2076.8178708.\u001b[0m\n",
      "\u001b[32m[I 2023-05-18 08:53:56,219]\u001b[0m Trial 13 finished with value: 2249.9935545999997 and parameters: {'eta': 0.10370657731530099, 'max_depth': 2, 'gamma': 4.3379609865658077e-08, 'subsample': 0.4744469095744621, 'colsample_bytree': 0.6684638737336946, 'min_child_weight': 1.0366470897581818e-05, 'booster': 'gbtree'}. Best is trial 3 with value: 2076.8178708.\u001b[0m\n",
      "\u001b[32m[I 2023-05-18 08:53:58,340]\u001b[0m Trial 14 pruned. Trial was pruned at iteration 20.\u001b[0m\n",
      "\u001b[32m[I 2023-05-18 08:54:06,697]\u001b[0m Trial 15 finished with value: 2041.838623 and parameters: {'eta': 0.2599359143125621, 'max_depth': 2, 'gamma': 7.12652927956325e-05, 'subsample': 0.904823787684947, 'colsample_bytree': 0.9776285002006888, 'min_child_weight': 0.0002850180303688955, 'booster': 'gbtree'}. Best is trial 15 with value: 2041.838623.\u001b[0m\n",
      "\u001b[32m[I 2023-05-18 08:54:16,381]\u001b[0m Trial 16 finished with value: 1800.5649169999997 and parameters: {'eta': 0.36973547098818194, 'max_depth': 6, 'gamma': 8.706455479900814e-05, 'subsample': 0.8728872269641125, 'colsample_bytree': 0.9680397994656392, 'min_child_weight': 0.00027019226633616617, 'booster': 'gbtree'}. Best is trial 16 with value: 1800.5649169999997.\u001b[0m\n",
      "\u001b[32m[I 2023-05-18 08:54:26,228]\u001b[0m Trial 17 finished with value: 2199.8476074 and parameters: {'eta': 0.017604965695090825, 'max_depth': 7, 'gamma': 8.9206196885153e-05, 'subsample': 0.8785049766192621, 'colsample_bytree': 0.9967874951929887, 'min_child_weight': 0.0003543070926164438, 'booster': 'gbtree'}. Best is trial 16 with value: 1800.5649169999997.\u001b[0m\n",
      "\u001b[32m[I 2023-05-18 08:54:36,713]\u001b[0m Trial 18 finished with value: 1832.0239990000002 and parameters: {'eta': 0.3492030822040343, 'max_depth': 6, 'gamma': 0.00014152662524361895, 'subsample': 0.8732829546224782, 'colsample_bytree': 0.77857601265102, 'min_child_weight': 0.0007698692750048423, 'booster': 'gbtree'}. Best is trial 16 with value: 1800.5649169999997.\u001b[0m\n",
      "\u001b[32m[I 2023-05-18 08:54:47,618]\u001b[0m Trial 19 finished with value: 1913.6747314 and parameters: {'eta': 0.8207919299515101, 'max_depth': 6, 'gamma': 2.127554298915509e-06, 'subsample': 0.8352222792388787, 'colsample_bytree': 0.7767909014220191, 'min_child_weight': 0.004838774292802215, 'booster': 'gbtree'}. Best is trial 16 with value: 1800.5649169999997.\u001b[0m\n",
      "\u001b[32m[I 2023-05-18 08:54:57,519]\u001b[0m Trial 20 finished with value: 2114.8436036 and parameters: {'eta': 0.043516715712633984, 'max_depth': 7, 'gamma': 0.00048152875854270304, 'subsample': 0.7879464936526526, 'colsample_bytree': 0.8965988753863543, 'min_child_weight': 0.0017356751753582027, 'booster': 'gbtree'}. Best is trial 16 with value: 1800.5649169999997.\u001b[0m\n",
      "\u001b[32m[I 2023-05-18 08:55:07,732]\u001b[0m Trial 21 finished with value: 1840.6958496 and parameters: {'eta': 0.6644570153028083, 'max_depth': 6, 'gamma': 4.632540646798003e-06, 'subsample': 0.8530025271052256, 'colsample_bytree': 0.7788855525547911, 'min_child_weight': 0.00878020086563588, 'booster': 'gbtree'}. Best is trial 16 with value: 1800.5649169999997.\u001b[0m\n",
      "\u001b[32m[I 2023-05-18 08:55:17,611]\u001b[0m Trial 22 finished with value: 1869.4377196 and parameters: {'eta': 0.3028465120906699, 'max_depth': 5, 'gamma': 1.3778298932906383e-06, 'subsample': 0.8748671388197704, 'colsample_bytree': 0.7556831965593824, 'min_child_weight': 0.022299136079821168, 'booster': 'gbtree'}. Best is trial 16 with value: 1800.5649169999997.\u001b[0m\n",
      "\u001b[32m[I 2023-05-18 08:55:25,245]\u001b[0m Trial 23 finished with value: 2210.7161619999997 and parameters: {'eta': 0.967675752026367, 'max_depth': 8, 'gamma': 1.5782941351334826e-05, 'subsample': 0.7514985680970612, 'colsample_bytree': 0.8464295043425856, 'min_child_weight': 0.00013344085977855792, 'booster': 'gbtree'}. Best is trial 16 with value: 1800.5649169999997.\u001b[0m\n",
      "\u001b[32m[I 2023-05-18 08:55:34,912]\u001b[0m Trial 24 finished with value: 1863.5302490000001 and parameters: {'eta': 0.3014416030305618, 'max_depth': 5, 'gamma': 0.0008065395137816038, 'subsample': 0.8525066605664504, 'colsample_bytree': 0.7351962762101866, 'min_child_weight': 0.0037103954836512233, 'booster': 'gbtree'}. Best is trial 16 with value: 1800.5649169999997.\u001b[0m\n",
      "\u001b[32m[I 2023-05-18 08:55:44,492]\u001b[0m Trial 25 finished with value: 1987.5051272 and parameters: {'eta': 0.11811349331360217, 'max_depth': 6, 'gamma': 2.6998443675926666e-07, 'subsample': 0.9336188037943333, 'colsample_bytree': 0.7869320314029926, 'min_child_weight': 4.344556686063241e-05, 'booster': 'gbtree'}. Best is trial 16 with value: 1800.5649169999997.\u001b[0m\n",
      "\u001b[32m[I 2023-05-18 08:55:55,420]\u001b[0m Trial 26 finished with value: 1811.4971192 and parameters: {'eta': 0.37922899155906176, 'max_depth': 8, 'gamma': 9.297928237485156e-06, 'subsample': 0.8164990392400938, 'colsample_bytree': 0.8627443796433448, 'min_child_weight': 0.001447888427541575, 'booster': 'gbtree'}. Best is trial 16 with value: 1800.5649169999997.\u001b[0m\n",
      "\u001b[32m[I 2023-05-18 08:56:05,814]\u001b[0m Trial 27 finished with value: 2080.6258056 and parameters: {'eta': 0.05135114239099646, 'max_depth': 8, 'gamma': 1.4717097078989948e-05, 'subsample': 0.7281298482188445, 'colsample_bytree': 0.9317233190656883, 'min_child_weight': 0.0012172892418746573, 'booster': 'gbtree'}. Best is trial 16 with value: 1800.5649169999997.\u001b[0m\n",
      "\u001b[32m[I 2023-05-18 08:56:08,429]\u001b[0m Trial 28 pruned. Trial was pruned at iteration 20.\u001b[0m\n",
      "\u001b[32m[I 2023-05-18 08:56:20,744]\u001b[0m Trial 29 finished with value: 1911.5279294 and parameters: {'eta': 0.17317149514537486, 'max_depth': 10, 'gamma': 0.00044337214682965313, 'subsample': 0.9136516502972498, 'colsample_bytree': 0.8410148600726123, 'min_child_weight': 0.0011644642078161272, 'booster': 'gbtree'}. Best is trial 16 with value: 1800.5649169999997.\u001b[0m\n",
      "\u001b[32m[I 2023-05-18 08:56:30,523]\u001b[0m Trial 30 finished with value: 1792.0164794 and parameters: {'eta': 0.38948170762937045, 'max_depth': 5, 'gamma': 1.866882667634881e-05, 'subsample': 0.9554543204445987, 'colsample_bytree': 0.9249435640584988, 'min_child_weight': 0.0557529037540873, 'booster': 'gbtree'}. Best is trial 30 with value: 1792.0164794.\u001b[0m\n",
      "\u001b[32m[I 2023-05-18 08:56:40,301]\u001b[0m Trial 31 finished with value: 1788.9118896 and parameters: {'eta': 0.4169539704272777, 'max_depth': 5, 'gamma': 1.6319436355686783e-05, 'subsample': 0.9605165271555423, 'colsample_bytree': 0.935222401156094, 'min_child_weight': 0.08071721384287223, 'booster': 'gbtree'}. Best is trial 31 with value: 1788.9118896.\u001b[0m\n",
      "\u001b[32m[I 2023-05-18 08:56:49,231]\u001b[0m Trial 32 finished with value: 1977.7304198000002 and parameters: {'eta': 0.15226704527826915, 'max_depth': 4, 'gamma': 9.173600141405305e-06, 'subsample': 0.951802026696144, 'colsample_bytree': 0.9650523487177377, 'min_child_weight': 0.08527242795568402, 'booster': 'gbtree'}. Best is trial 31 with value: 1788.9118896.\u001b[0m\n",
      "\u001b[32m[I 2023-05-18 08:56:59,259]\u001b[0m Trial 33 finished with value: 1781.8303956 and parameters: {'eta': 0.44010753165380506, 'max_depth': 5, 'gamma': 2.666965624574253e-05, 'subsample': 0.9666633440194781, 'colsample_bytree': 0.9165019787508721, 'min_child_weight': 4.0496077152718986, 'booster': 'gbtree'}. Best is trial 33 with value: 1781.8303956.\u001b[0m\n",
      "\n",
      "Hyper-Parameter Optimization successfully finished.\n",
      "  Number of finished trials:  34\n",
      "  Best trial:\n",
      "    Value: 1781.8303956\n",
      "    Params: \n",
      "    eta: 0.44010753165380506\n",
      "    max_depth: 5\n",
      "    gamma: 2.666965624574253e-05\n",
      "    subsample: 0.9666633440194781\n",
      "    colsample_bytree: 0.9165019787508721\n",
      "    min_child_weight: 4.0496077152718986\n",
      "    booster: gbtree\n",
      "    opt_rounds: 100\n"
     ]
    }
   ],
   "source": [
    "# Any XGBoost hyperparameter can be tuned, where the structure of the parameter dictionary needs to be as follows:\n",
    "\n",
    "    # Float/Int sample_type\n",
    "        # {\"param_name\": [\"sample_type\", low, high, log]}\n",
    "            # sample_type: str, Type of sampling, e.g., \"float\" or \"int\"\n",
    "            # low: int, Lower endpoint of the range of suggested values\n",
    "            # high: int, Upper endpoint of the range of suggested values\n",
    "            # log: bool, Flag to sample the value from the log domain or not\n",
    "        # Example: {\"eta\": \"float\", low=1e-5, high=1, log=True]}\n",
    "\n",
    "    # Categorical sample_type\n",
    "        # {\"param_name\": [\"sample_type\", [\"choice1\", \"choice2\", \"choice3\", \"...\"]]}\n",
    "            # sample_type: str, Type of sampling, either \"categorical\"\n",
    "            # choice1, choice2, choice3, ...: str, Possible choices for the parameter\n",
    "        # Example: {\"booster\": [\"categorical\", [\"gbtree\", \"dart\"]]}\n",
    "\n",
    "    # For parameters without tunable choice (this is needed if tree_method = \"gpu_hist\" and gpu_id needs to be specified)\n",
    "        # {\"param_name\": [\"none\", [value]]},\n",
    "            # param_name: str, Name of the parameter\n",
    "            # value: int, Value of the parameter\n",
    "        # Example: {\"gpu_id\": [\"none\", [0]]}\n",
    "\n",
    "# Depending on which parameters are optimized, it might happen that some of them are not used, e.g., when {\"booster\":  [\"categorical\", [\"gbtree\", \"gblinear\"]]} and {\"max_depth\": [\"int\", 1, 10, False]} are\n",
    "# specified, max_depth is not used when gblinear is sampled, since it has no such argument.\n",
    "\n",
    "param_dict = {\n",
    "    \"eta\":              [\"float\", {\"low\": 1e-5,   \"high\": 1,     \"log\": True}],\n",
    "    \"max_depth\":        [\"int\",   {\"low\": 1,      \"high\": 10,    \"log\": False}],\n",
    "    \"gamma\":            [\"float\", {\"low\": 1e-8,   \"high\": 40,    \"log\": True}],\n",
    "    \"subsample\":        [\"float\", {\"low\": 0.2,    \"high\": 1.0,   \"log\": False}],\n",
    "    \"colsample_bytree\": [\"float\", {\"low\": 0.2,    \"high\": 1.0,   \"log\": False}],\n",
    "    \"min_child_weight\": [\"float\", {\"low\": 1e-8,   \"high\": 500,   \"log\": True}],\n",
    "    \"booster\":          [\"categorical\", [\"gbtree\"]],\n",
    "    # \"tree_method\":    [\"categorical\", [\"auto\", \"approx\", \"hist\", \"gpu_hist\"]],\n",
    "    # \"gpu_id\":         [\"none\", [0]]\n",
    "}\n",
    "\n",
    "np.random.seed(123)\n",
    "opt_param = xgblss.hyper_opt(param_dict,\n",
    "                             dtrain,\n",
    "                             num_boost_round=100,        # Number of boosting iterations.\n",
    "                             nfold=5,                    # Number of cv-folds.\n",
    "                             early_stopping_rounds=20,   # Number of early-stopping rounds\n",
    "                             max_minutes=5,              # Time budget in minutes, i.e., stop study after the given number of minutes.\n",
    "                             n_trials=None,              # The number of trials. If this argument is set to None, there is no limitation on the number of trials.\n",
    "                             silence=False,              # Controls the verbosity of the trail, i.e., user can silence the outputs of the trail.\n",
    "                             seed=123,                   # Seed used to generate cv-folds.\n",
    "                             hp_seed=None                # Seed for random number generator used in the Bayesian hyperparameter search.\n",
    "                            )"
   ]
  },
  {
   "cell_type": "markdown",
   "metadata": {},
   "source": [
    "# Model Training"
   ]
  },
  {
   "cell_type": "code",
   "execution_count": 5,
   "metadata": {
    "ExecuteTime": {
     "end_time": "2023-05-18T06:57:01.202188600Z",
     "start_time": "2023-05-18T06:56:59.315239400Z"
    }
   },
   "outputs": [
    {
     "data": {
      "text/plain": [
       "<xgboost.core.Booster at 0x23ba3a5b370>"
      ]
     },
     "execution_count": 5,
     "metadata": {},
     "output_type": "execute_result"
    }
   ],
   "source": [
    "np.random.seed(123)\n",
    "\n",
    "opt_params = opt_param.copy()\n",
    "n_rounds = opt_params[\"opt_rounds\"]\n",
    "del opt_params[\"opt_rounds\"]\n",
    "\n",
    "# Train Model with optimized hyperparameters\n",
    "xgblss.train(opt_params,\n",
    "             dtrain,\n",
    "             num_boost_round=n_rounds\n",
    "             )"
   ]
  },
  {
   "cell_type": "markdown",
   "metadata": {},
   "source": [
    "# Prediction"
   ]
  },
  {
   "cell_type": "code",
   "execution_count": 6,
   "metadata": {
    "ExecuteTime": {
     "end_time": "2023-05-18T06:57:02.113749300Z",
     "start_time": "2023-05-18T06:57:01.203185800Z"
    }
   },
   "outputs": [],
   "source": [
    "# Set seed for reproducibility\n",
    "torch.manual_seed(123)\n",
    "\n",
    "# Number of samples to draw from predicted distribution\n",
    "n_samples = 1000\n",
    "quant_sel = [0.05, 0.95] # Quantiles to calculate from predicted distribution\n",
    "\n",
    "# Sample from predicted distribution\n",
    "pred_samples = xgblss.predict(dtest,\n",
    "                              pred_type=\"samples\",\n",
    "                              n_samples=n_samples,\n",
    "                              seed=123)\n",
    "\n",
    "# Calculate quantiles from predicted distribution\n",
    "pred_quantiles = xgblss.predict(dtest,\n",
    "                                pred_type=\"quantiles\",\n",
    "                                n_samples=n_samples,\n",
    "                                quantiles=quant_sel)\n",
    "\n",
    "# Returns predicted distributional parameters\n",
    "pred_params = xgblss.predict(dtest,\n",
    "                             pred_type=\"parameters\")"
   ]
  },
  {
   "cell_type": "code",
   "execution_count": 7,
   "metadata": {
    "ExecuteTime": {
     "end_time": "2023-05-18T06:57:02.163617200Z",
     "start_time": "2023-05-18T06:57:02.114747Z"
    }
   },
   "outputs": [
    {
     "data": {
      "text/html": [
       "<div>\n",
       "<style scoped>\n",
       "    .dataframe tbody tr th:only-of-type {\n",
       "        vertical-align: middle;\n",
       "    }\n",
       "\n",
       "    .dataframe tbody tr th {\n",
       "        vertical-align: top;\n",
       "    }\n",
       "\n",
       "    .dataframe thead th {\n",
       "        text-align: right;\n",
       "    }\n",
       "</style>\n",
       "<table border=\"1\" class=\"dataframe\">\n",
       "  <thead>\n",
       "    <tr style=\"text-align: right;\">\n",
       "      <th></th>\n",
       "      <th>y_sample0</th>\n",
       "      <th>y_sample1</th>\n",
       "      <th>y_sample2</th>\n",
       "      <th>y_sample3</th>\n",
       "      <th>y_sample4</th>\n",
       "      <th>y_sample5</th>\n",
       "      <th>y_sample6</th>\n",
       "      <th>y_sample7</th>\n",
       "      <th>y_sample8</th>\n",
       "      <th>y_sample9</th>\n",
       "      <th>...</th>\n",
       "      <th>y_sample990</th>\n",
       "      <th>y_sample991</th>\n",
       "      <th>y_sample992</th>\n",
       "      <th>y_sample993</th>\n",
       "      <th>y_sample994</th>\n",
       "      <th>y_sample995</th>\n",
       "      <th>y_sample996</th>\n",
       "      <th>y_sample997</th>\n",
       "      <th>y_sample998</th>\n",
       "      <th>y_sample999</th>\n",
       "    </tr>\n",
       "  </thead>\n",
       "  <tbody>\n",
       "    <tr>\n",
       "      <th>0</th>\n",
       "      <td>30</td>\n",
       "      <td>10</td>\n",
       "      <td>24</td>\n",
       "      <td>11</td>\n",
       "      <td>22</td>\n",
       "      <td>19</td>\n",
       "      <td>41</td>\n",
       "      <td>21</td>\n",
       "      <td>27</td>\n",
       "      <td>9</td>\n",
       "      <td>...</td>\n",
       "      <td>46</td>\n",
       "      <td>31</td>\n",
       "      <td>19</td>\n",
       "      <td>35</td>\n",
       "      <td>18</td>\n",
       "      <td>43</td>\n",
       "      <td>18</td>\n",
       "      <td>31</td>\n",
       "      <td>28</td>\n",
       "      <td>40</td>\n",
       "    </tr>\n",
       "    <tr>\n",
       "      <th>1</th>\n",
       "      <td>21</td>\n",
       "      <td>28</td>\n",
       "      <td>27</td>\n",
       "      <td>35</td>\n",
       "      <td>11</td>\n",
       "      <td>21</td>\n",
       "      <td>23</td>\n",
       "      <td>22</td>\n",
       "      <td>20</td>\n",
       "      <td>30</td>\n",
       "      <td>...</td>\n",
       "      <td>29</td>\n",
       "      <td>30</td>\n",
       "      <td>21</td>\n",
       "      <td>32</td>\n",
       "      <td>9</td>\n",
       "      <td>33</td>\n",
       "      <td>35</td>\n",
       "      <td>28</td>\n",
       "      <td>9</td>\n",
       "      <td>14</td>\n",
       "    </tr>\n",
       "    <tr>\n",
       "      <th>2</th>\n",
       "      <td>13</td>\n",
       "      <td>13</td>\n",
       "      <td>10</td>\n",
       "      <td>25</td>\n",
       "      <td>8</td>\n",
       "      <td>24</td>\n",
       "      <td>23</td>\n",
       "      <td>23</td>\n",
       "      <td>27</td>\n",
       "      <td>27</td>\n",
       "      <td>...</td>\n",
       "      <td>20</td>\n",
       "      <td>16</td>\n",
       "      <td>24</td>\n",
       "      <td>13</td>\n",
       "      <td>13</td>\n",
       "      <td>18</td>\n",
       "      <td>25</td>\n",
       "      <td>18</td>\n",
       "      <td>29</td>\n",
       "      <td>21</td>\n",
       "    </tr>\n",
       "    <tr>\n",
       "      <th>3</th>\n",
       "      <td>15</td>\n",
       "      <td>15</td>\n",
       "      <td>8</td>\n",
       "      <td>17</td>\n",
       "      <td>10</td>\n",
       "      <td>9</td>\n",
       "      <td>14</td>\n",
       "      <td>22</td>\n",
       "      <td>14</td>\n",
       "      <td>8</td>\n",
       "      <td>...</td>\n",
       "      <td>8</td>\n",
       "      <td>13</td>\n",
       "      <td>21</td>\n",
       "      <td>11</td>\n",
       "      <td>3</td>\n",
       "      <td>17</td>\n",
       "      <td>19</td>\n",
       "      <td>15</td>\n",
       "      <td>8</td>\n",
       "      <td>6</td>\n",
       "    </tr>\n",
       "    <tr>\n",
       "      <th>4</th>\n",
       "      <td>9</td>\n",
       "      <td>5</td>\n",
       "      <td>2</td>\n",
       "      <td>6</td>\n",
       "      <td>6</td>\n",
       "      <td>6</td>\n",
       "      <td>4</td>\n",
       "      <td>1</td>\n",
       "      <td>12</td>\n",
       "      <td>8</td>\n",
       "      <td>...</td>\n",
       "      <td>5</td>\n",
       "      <td>8</td>\n",
       "      <td>4</td>\n",
       "      <td>16</td>\n",
       "      <td>5</td>\n",
       "      <td>5</td>\n",
       "      <td>8</td>\n",
       "      <td>6</td>\n",
       "      <td>3</td>\n",
       "      <td>6</td>\n",
       "    </tr>\n",
       "  </tbody>\n",
       "</table>\n",
       "<p>5 rows × 1000 columns</p>\n",
       "</div>"
      ],
      "text/plain": [
       "   y_sample0  y_sample1  y_sample2  y_sample3  y_sample4  y_sample5   \n",
       "0         30         10         24         11         22         19  \\\n",
       "1         21         28         27         35         11         21   \n",
       "2         13         13         10         25          8         24   \n",
       "3         15         15          8         17         10          9   \n",
       "4          9          5          2          6          6          6   \n",
       "\n",
       "   y_sample6  y_sample7  y_sample8  y_sample9  ...  y_sample990  y_sample991   \n",
       "0         41         21         27          9  ...           46           31  \\\n",
       "1         23         22         20         30  ...           29           30   \n",
       "2         23         23         27         27  ...           20           16   \n",
       "3         14         22         14          8  ...            8           13   \n",
       "4          4          1         12          8  ...            5            8   \n",
       "\n",
       "   y_sample992  y_sample993  y_sample994  y_sample995  y_sample996   \n",
       "0           19           35           18           43           18  \\\n",
       "1           21           32            9           33           35   \n",
       "2           24           13           13           18           25   \n",
       "3           21           11            3           17           19   \n",
       "4            4           16            5            5            8   \n",
       "\n",
       "   y_sample997  y_sample998  y_sample999  \n",
       "0           31           28           40  \n",
       "1           28            9           14  \n",
       "2           18           29           21  \n",
       "3           15            8            6  \n",
       "4            6            3            6  \n",
       "\n",
       "[5 rows x 1000 columns]"
      ]
     },
     "execution_count": 7,
     "metadata": {},
     "output_type": "execute_result"
    }
   ],
   "source": [
    "pred_samples.head()"
   ]
  },
  {
   "cell_type": "code",
   "execution_count": 8,
   "metadata": {
    "ExecuteTime": {
     "end_time": "2023-05-18T06:57:02.186554200Z",
     "start_time": "2023-05-18T06:57:02.146661700Z"
    }
   },
   "outputs": [
    {
     "data": {
      "text/html": [
       "<div>\n",
       "<style scoped>\n",
       "    .dataframe tbody tr th:only-of-type {\n",
       "        vertical-align: middle;\n",
       "    }\n",
       "\n",
       "    .dataframe tbody tr th {\n",
       "        vertical-align: top;\n",
       "    }\n",
       "\n",
       "    .dataframe thead th {\n",
       "        text-align: right;\n",
       "    }\n",
       "</style>\n",
       "<table border=\"1\" class=\"dataframe\">\n",
       "  <thead>\n",
       "    <tr style=\"text-align: right;\">\n",
       "      <th></th>\n",
       "      <th>quant_0.05</th>\n",
       "      <th>quant_0.95</th>\n",
       "    </tr>\n",
       "  </thead>\n",
       "  <tbody>\n",
       "    <tr>\n",
       "      <th>0</th>\n",
       "      <td>15</td>\n",
       "      <td>47</td>\n",
       "    </tr>\n",
       "    <tr>\n",
       "      <th>1</th>\n",
       "      <td>12</td>\n",
       "      <td>40</td>\n",
       "    </tr>\n",
       "    <tr>\n",
       "      <th>2</th>\n",
       "      <td>9</td>\n",
       "      <td>33</td>\n",
       "    </tr>\n",
       "    <tr>\n",
       "      <th>3</th>\n",
       "      <td>4</td>\n",
       "      <td>20</td>\n",
       "    </tr>\n",
       "    <tr>\n",
       "      <th>4</th>\n",
       "      <td>2</td>\n",
       "      <td>14</td>\n",
       "    </tr>\n",
       "  </tbody>\n",
       "</table>\n",
       "</div>"
      ],
      "text/plain": [
       "   quant_0.05  quant_0.95\n",
       "0          15          47\n",
       "1          12          40\n",
       "2           9          33\n",
       "3           4          20\n",
       "4           2          14"
      ]
     },
     "execution_count": 8,
     "metadata": {},
     "output_type": "execute_result"
    }
   ],
   "source": [
    "pred_quantiles.head()"
   ]
  },
  {
   "cell_type": "code",
   "execution_count": 9,
   "metadata": {
    "ExecuteTime": {
     "end_time": "2023-05-18T06:57:02.233679600Z",
     "start_time": "2023-05-18T06:57:02.160625600Z"
    }
   },
   "outputs": [
    {
     "data": {
      "text/html": [
       "<div>\n",
       "<style scoped>\n",
       "    .dataframe tbody tr th:only-of-type {\n",
       "        vertical-align: middle;\n",
       "    }\n",
       "\n",
       "    .dataframe tbody tr th {\n",
       "        vertical-align: top;\n",
       "    }\n",
       "\n",
       "    .dataframe thead th {\n",
       "        text-align: right;\n",
       "    }\n",
       "</style>\n",
       "<table border=\"1\" class=\"dataframe\">\n",
       "  <thead>\n",
       "    <tr style=\"text-align: right;\">\n",
       "      <th></th>\n",
       "      <th>total_count</th>\n",
       "      <th>probs</th>\n",
       "    </tr>\n",
       "  </thead>\n",
       "  <tbody>\n",
       "    <tr>\n",
       "      <th>0</th>\n",
       "      <td>12.940989</td>\n",
       "      <td>0.692237</td>\n",
       "    </tr>\n",
       "    <tr>\n",
       "      <th>1</th>\n",
       "      <td>12.694552</td>\n",
       "      <td>0.657546</td>\n",
       "    </tr>\n",
       "    <tr>\n",
       "      <th>2</th>\n",
       "      <td>11.890333</td>\n",
       "      <td>0.626702</td>\n",
       "    </tr>\n",
       "    <tr>\n",
       "      <th>3</th>\n",
       "      <td>10.453554</td>\n",
       "      <td>0.508513</td>\n",
       "    </tr>\n",
       "    <tr>\n",
       "      <th>4</th>\n",
       "      <td>10.296977</td>\n",
       "      <td>0.434791</td>\n",
       "    </tr>\n",
       "  </tbody>\n",
       "</table>\n",
       "</div>"
      ],
      "text/plain": [
       "   total_count     probs\n",
       "0    12.940989  0.692237\n",
       "1    12.694552  0.657546\n",
       "2    11.890333  0.626702\n",
       "3    10.453554  0.508513\n",
       "4    10.296977  0.434791"
      ]
     },
     "execution_count": 9,
     "metadata": {},
     "output_type": "execute_result"
    }
   ],
   "source": [
    "pred_params.head()"
   ]
  }
 ],
 "metadata": {
  "kernelspec": {
   "display_name": "Python 3 (ipykernel)",
   "language": "python",
   "name": "python3"
  },
  "language_info": {
   "codemirror_mode": {
    "name": "ipython",
    "version": 3
   },
   "file_extension": ".py",
   "mimetype": "text/x-python",
   "name": "python",
   "nbconvert_exporter": "python",
   "pygments_lexer": "ipython3",
   "version": "3.9.0"
  }
 },
 "nbformat": 4,
 "nbformat_minor": 4
}
